{
  "nbformat": 4,
  "nbformat_minor": 0,
  "metadata": {
    "anaconda-cloud": {},
    "celltoolbar": "Raw Cell Format",
    "kernelspec": {
      "display_name": "Python 3 (ipykernel)",
      "language": "python",
      "name": "python3"
    },
    "language_info": {
      "codemirror_mode": {
        "name": "ipython",
        "version": 3
      },
      "file_extension": ".py",
      "mimetype": "text/x-python",
      "name": "python",
      "nbconvert_exporter": "python",
      "pygments_lexer": "ipython3",
      "version": "3.9.5"
    },
    "colab": {
      "name": "Quntra Classification SVM.ipynb",
      "provenance": [],
      "collapsed_sections": []
    }
  },
  "cells": [
    {
      "cell_type": "markdown",
      "metadata": {
        "id": "n94sCJG279F5"
      },
      "source": [
        "## Trading Strategy Using Classification: SVM\n",
        "\n",
        "The key steps involved in creating the strategy are:\n",
        "1. Read data\n",
        "2. Create indicators\n",
        "3. Calculate returns\n",
        "4. Train and test data\n",
        "5. Create output signals\n",
        "6. Find the best parameters\n",
        "7. Create the support vector machine\n",
        "8. Predict the signals\n",
        "9. Analyse the performance\n",
        "10. Plot the results"
      ]
    },
    {
      "cell_type": "markdown",
      "metadata": {
        "id": "SUWC8tiZ79F6"
      },
      "source": [
        "### Import libraries\n",
        "\n",
        "We will import the necessary libraries for the strategy.  The installation for Talib is optimized for Google Colab"
      ]
    },
    {
      "cell_type": "code",
      "metadata": {
        "colab": {
          "base_uri": "https://localhost:8080/"
        },
        "id": "Piy4H6Rs8QY8",
        "outputId": "dde703ba-fca2-4e6a-b655-3ad39207832c"
      },
      "source": [
        "url = 'https://anaconda.org/conda-forge/libta-lib/0.4.0/download/linux-64/libta-lib-0.4.0-h516909a_0.tar.bz2'\n",
        "!curl -L $url | tar xj -C /usr/lib/x86_64-linux-gnu/ lib --strip-components=1\n",
        "url = 'https://anaconda.org/conda-forge/ta-lib/0.4.19/download/linux-64/ta-lib-0.4.19-py37ha21ca33_2.tar.bz2'\n",
        "!curl -L $url | tar xj -C /usr/local/lib/python3.7/dist-packages/ lib/python3.7/site-packages/talib --strip-components=3\n",
        "\n",
        "!pip install yfinance"
      ],
      "execution_count": null,
      "outputs": [
        {
          "output_type": "stream",
          "text": [
            "  % Total    % Received % Xferd  Average Speed   Time    Time     Time  Current\n",
            "                                 Dload  Upload   Total   Spent    Left  Speed\n",
            "100  3673    0  3673    0     0   3345      0 --:--:--  0:00:01 --:--:--  3345\n",
            "100  503k  100  503k    0     0   172k      0  0:00:02  0:00:02 --:--:--  365k\n",
            "  % Total    % Received % Xferd  Average Speed   Time    Time     Time  Current\n",
            "                                 Dload  Upload   Total   Spent    Left  Speed\n",
            "100  3669    0  3669    0     0   3353      0 --:--:--  0:00:01 --:--:--  3353\n",
            "100  406k  100  406k    0     0   143k      0  0:00:02  0:00:02 --:--:--  300k\n",
            "Requirement already satisfied: yfinance in /usr/local/lib/python3.7/dist-packages (0.1.63)\n",
            "Requirement already satisfied: multitasking>=0.0.7 in /usr/local/lib/python3.7/dist-packages (from yfinance) (0.0.9)\n",
            "Requirement already satisfied: pandas>=0.24 in /usr/local/lib/python3.7/dist-packages (from yfinance) (1.1.5)\n",
            "Requirement already satisfied: lxml>=4.5.1 in /usr/local/lib/python3.7/dist-packages (from yfinance) (4.6.3)\n",
            "Requirement already satisfied: numpy>=1.15 in /usr/local/lib/python3.7/dist-packages (from yfinance) (1.19.5)\n",
            "Requirement already satisfied: requests>=2.20 in /usr/local/lib/python3.7/dist-packages (from yfinance) (2.23.0)\n",
            "Requirement already satisfied: python-dateutil>=2.7.3 in /usr/local/lib/python3.7/dist-packages (from pandas>=0.24->yfinance) (2.8.1)\n",
            "Requirement already satisfied: pytz>=2017.2 in /usr/local/lib/python3.7/dist-packages (from pandas>=0.24->yfinance) (2018.9)\n",
            "Requirement already satisfied: six>=1.5 in /usr/local/lib/python3.7/dist-packages (from python-dateutil>=2.7.3->pandas>=0.24->yfinance) (1.15.0)\n",
            "Requirement already satisfied: urllib3!=1.25.0,!=1.25.1,<1.26,>=1.21.1 in /usr/local/lib/python3.7/dist-packages (from requests>=2.20->yfinance) (1.24.3)\n",
            "Requirement already satisfied: certifi>=2017.4.17 in /usr/local/lib/python3.7/dist-packages (from requests>=2.20->yfinance) (2021.5.30)\n",
            "Requirement already satisfied: chardet<4,>=3.0.2 in /usr/local/lib/python3.7/dist-packages (from requests>=2.20->yfinance) (3.0.4)\n",
            "Requirement already satisfied: idna<3,>=2.5 in /usr/local/lib/python3.7/dist-packages (from requests>=2.20->yfinance) (2.10)\n"
          ],
          "name": "stdout"
        }
      ]
    },
    {
      "cell_type": "code",
      "metadata": {
        "id": "LBS95UTf79F6"
      },
      "source": [
        "# Data manipulation libraries\n",
        "import pandas as pd\n",
        "import numpy as np\n",
        "\n",
        "# Machine learning libraries\n",
        "from sklearn.svm import SVC\n",
        "from sklearn.preprocessing import StandardScaler\n",
        "from sklearn.model_selection import RandomizedSearchCV\n",
        "from sklearn.model_selection import TimeSeriesSplit\n",
        "from sklearn.pipeline import Pipeline\n",
        "from sklearn.metrics import confusion_matrix\n",
        "from sklearn.metrics import classification_report\n",
        "\n",
        "# Technical indicator library\n",
        "import talib as ta\n",
        "\n",
        "# Data Gathering\n",
        "import yfinance as yf\n",
        "\n",
        "# Plotting libraries\n",
        "import matplotlib.pyplot as plt\n",
        "import seaborn as sns\n",
        "from matplotlib.dates import DateFormatter\n",
        "import matplotlib.dates as mdates\n",
        "\n",
        "# Ignore warnings\n",
        "import warnings\n",
        "warnings.filterwarnings(\"ignore\")"
      ],
      "execution_count": null,
      "outputs": []
    },
    {
      "cell_type": "markdown",
      "metadata": {
        "id": "VfFMhVUL79F7"
      },
      "source": [
        "## Read data"
      ]
    },
    {
      "cell_type": "code",
      "metadata": {
        "colab": {
          "base_uri": "https://localhost:8080/",
          "height": 348
        },
        "id": "SS2Gc_nj79F7",
        "outputId": "149ba9e0-af31-45d2-9122-912f3c6415a8"
      },
      "source": [
        "# Gather Foot Locker Daily Data\n",
        "stock = 'FL'\n",
        "Df = yf.download(stock, '2017-01-01')\n",
        "\n",
        "# Plot the closing price\n",
        "Df.Close.plot(figsize=(10, 5))\n",
        "plt.ylabel(\"Close Price\")\n",
        "plt.show()"
      ],
      "execution_count": null,
      "outputs": [
        {
          "output_type": "stream",
          "text": [
            "\r[*********************100%***********************]  1 of 1 completed\n"
          ],
          "name": "stdout"
        },
        {
          "output_type": "display_data",
          "data": {
            "image/png": "[encoded data removed]",
            "text/plain": [
              "<Figure size 720x360 with 1 Axes>"
            ]
          },
          "metadata": {
            "tags": [],
            "needs_background": "light"
          }
        }
      ]
    },
    {
      "cell_type": "code",
      "metadata": {
        "colab": {
          "base_uri": "https://localhost:8080/",
          "height": 235
        },
        "id": "WXlnOkft9K0o",
        "outputId": "c17956ce-e13f-4079-fcce-6927c5555ace"
      },
      "source": [
        "Df.head()"
      ],
      "execution_count": null,
      "outputs": [
        {
          "output_type": "execute_result",
          "data": {
            "text/html": [
              "<div>\n",
              "<style scoped>\n",
              "    .dataframe tbody tr th:only-of-type {\n",
              "        vertical-align: middle;\n",
              "    }\n",
              "\n",
              "    .dataframe tbody tr th {\n",
              "        vertical-align: top;\n",
              "    }\n",
              "\n",
              "    .dataframe thead th {\n",
              "        text-align: right;\n",
              "    }\n",
              "</style>\n",
              "<table border=\"1\" class=\"dataframe\">\n",
              "  <thead>\n",
              "    <tr style=\"text-align: right;\">\n",
              "      <th></th>\n",
              "      <th>Open</th>\n",
              "      <th>High</th>\n",
              "      <th>Low</th>\n",
              "      <th>Close</th>\n",
              "      <th>Adj Close</th>\n",
              "      <th>Volume</th>\n",
              "    </tr>\n",
              "    <tr>\n",
              "      <th>Date</th>\n",
              "      <th></th>\n",
              "      <th></th>\n",
              "      <th></th>\n",
              "      <th></th>\n",
              "      <th></th>\n",
              "      <th></th>\n",
              "    </tr>\n",
              "  </thead>\n",
              "  <tbody>\n",
              "    <tr>\n",
              "      <th>2015-01-02</th>\n",
              "      <td>56.430000</td>\n",
              "      <td>56.720001</td>\n",
              "      <td>55.369999</td>\n",
              "      <td>56.040001</td>\n",
              "      <td>47.923874</td>\n",
              "      <td>949500</td>\n",
              "    </tr>\n",
              "    <tr>\n",
              "      <th>2015-01-05</th>\n",
              "      <td>55.639999</td>\n",
              "      <td>56.099998</td>\n",
              "      <td>55.180000</td>\n",
              "      <td>55.889999</td>\n",
              "      <td>47.795601</td>\n",
              "      <td>2045600</td>\n",
              "    </tr>\n",
              "    <tr>\n",
              "      <th>2015-01-06</th>\n",
              "      <td>56.029999</td>\n",
              "      <td>56.160000</td>\n",
              "      <td>53.930000</td>\n",
              "      <td>54.439999</td>\n",
              "      <td>46.555595</td>\n",
              "      <td>2715600</td>\n",
              "    </tr>\n",
              "    <tr>\n",
              "      <th>2015-01-07</th>\n",
              "      <td>55.049999</td>\n",
              "      <td>57.270000</td>\n",
              "      <td>55.029999</td>\n",
              "      <td>56.919998</td>\n",
              "      <td>48.676411</td>\n",
              "      <td>3255500</td>\n",
              "    </tr>\n",
              "    <tr>\n",
              "      <th>2015-01-08</th>\n",
              "      <td>57.490002</td>\n",
              "      <td>57.619999</td>\n",
              "      <td>56.950001</td>\n",
              "      <td>57.500000</td>\n",
              "      <td>49.172421</td>\n",
              "      <td>2266600</td>\n",
              "    </tr>\n",
              "  </tbody>\n",
              "</table>\n",
              "</div>"
            ],
            "text/plain": [
              "                 Open       High        Low      Close  Adj Close   Volume\n",
              "Date                                                                      \n",
              "2015-01-02  56.430000  56.720001  55.369999  56.040001  47.923874   949500\n",
              "2015-01-05  55.639999  56.099998  55.180000  55.889999  47.795601  2045600\n",
              "2015-01-06  56.029999  56.160000  53.930000  54.439999  46.555595  2715600\n",
              "2015-01-07  55.049999  57.270000  55.029999  56.919998  48.676411  3255500\n",
              "2015-01-08  57.490002  57.619999  56.950001  57.500000  49.172421  2266600"
            ]
          },
          "metadata": {
            "tags": []
          },
          "execution_count": 37
        }
      ]
    },
    {
      "cell_type": "markdown",
      "metadata": {
        "id": "xxv6WQcR79F-"
      },
      "source": [
        "## Create indicators\n",
        "\n",
        "Next, you decide the time period for which you need to calculate the indicators. For this, you chose a variable `n` with a value of 10 (days). This is something you can change as per your choice.\n",
        "\n",
        "You will be creating all the indicators for the same time period. "
      ]
    },
    {
      "cell_type": "code",
      "metadata": {
        "id": "nwix_xBr79F-"
      },
      "source": [
        "# Create a variable n with a value of 10\n",
        "n = 10"
      ],
      "execution_count": null,
      "outputs": []
    },
    {
      "cell_type": "markdown",
      "metadata": {
        "id": "nXzxj5j-79F-"
      },
      "source": [
        "Next, you will create RSI and some other indicators. These indicators have been discussed in more detail in the technical references document in section 1 of this course."
      ]
    },
    {
      "cell_type": "markdown",
      "metadata": {
        "id": "_dJqk1C379F_"
      },
      "source": [
        "### Calculate RSI\n",
        "The RSI calculation contains two parts. \n",
        "1. First, the `Close` prices column is shifted down by a single time interval.\n",
        "2. Secondly, `timeperiod` is chosen as `n`.\n",
        "\n",
        "So if you are calculating RSI for 't' time, you will use Closing prices of 't-10', 't-9', …'t-1' time steps. "
      ]
    },
    {
      "cell_type": "code",
      "metadata": {
        "id": "hvtsq7XZ79F_"
      },
      "source": [
        "# Create a column by name, RSI and assign the calculation of RSI to it\n",
        "Df['RSI'] = ta.RSI(np.array(Df['Close'].shift(1)), timeperiod=n)"
      ],
      "execution_count": null,
      "outputs": []
    },
    {
      "cell_type": "markdown",
      "metadata": {
        "id": "xgR0Rl3c79F_"
      },
      "source": [
        "### Calculate SMA and correlation coefficient\n",
        "\n",
        "Simple Moving Average is calculated using the `rolling` method of pandas with a window of `n` minutes.\n",
        "\n",
        "The correlation coefficient is calculated between the `Close` prices and Simple Moving Average with a window of `n` minutes."
      ]
    },
    {
      "cell_type": "code",
      "metadata": {
        "id": "FaK0xJDx79F_"
      },
      "source": [
        "# Create a column by name, SMA and assign the SMA calculation to it\n",
        "Df['SMA'] = Df['Close'].shift(1).rolling(window=n).mean()\n",
        "\n",
        "# Create a column by name, Corr and assign the calculation of correlation to it\n",
        "Df['Corr'] = Df['Close'].shift(1).rolling(window=n).corr(Df['SMA'].shift(1))"
      ],
      "execution_count": null,
      "outputs": []
    },
    {
      "cell_type": "markdown",
      "metadata": {
        "id": "LvGHSrNb79GA"
      },
      "source": [
        "### Calculate SAR and ADX\n",
        "\n",
        "SAR and ADX are calculated on `High` and `Low` prices because they are intended to be sensitive to new Highs and Lows created. In the SAR indicator, the values of `0.2` represent the acceleration and maximum step parameters. "
      ]
    },
    {
      "cell_type": "code",
      "metadata": {
        "id": "XKAg42p-79GA"
      },
      "source": [
        "# Create a column by name, SAR and assign the SAR calculation to it\n",
        "Df['SAR'] = ta.SAR(np.array(Df['High'].shift(1)), np.array(Df['Low'].shift(1)),\n",
        "                   0.2, 0.2)\n",
        "\n",
        "# Create a column by name, ADX and assign the ADX calculation to it\n",
        "Df['ADX'] = ta.ADX(np.array(Df['High'].shift(1)), np.array(Df['Low'].shift(1)),\n",
        "                   np.array(Df['Open']), timeperiod=n)"
      ],
      "execution_count": null,
      "outputs": []
    },
    {
      "cell_type": "markdown",
      "metadata": {
        "id": "YV-lCunw79GA"
      },
      "source": [
        "### Previous OHLC\n",
        "We will pass the previous minute's `High`, `Low`, and `Open` prices as input to the algorithm. This will help the algorithm sense the volatility of the past time period."
      ]
    },
    {
      "cell_type": "code",
      "metadata": {
        "id": "RxLQBCow79GA"
      },
      "source": [
        "# Create columns high, low and close with previous minute's OHLC data\n",
        "Df['Prev_High'] = Df['High'].shift(1)\n",
        "Df['Prev_Low'] = Df['Low'].shift(1)\n",
        "Df['Prev_Close'] = Df['Close'].shift(1)"
      ],
      "execution_count": null,
      "outputs": []
    },
    {
      "cell_type": "markdown",
      "metadata": {
        "id": "3Igqhtu679GA"
      },
      "source": [
        "We will also create two more columns as features: the change in `Open` prices between last minute and current minute & the difference between current minute's `Open` and last minute's `Close` prices."
      ]
    },
    {
      "cell_type": "code",
      "metadata": {
        "id": "Osfd9XpM79GB"
      },
      "source": [
        "# Create columns 'OO' with the difference between the current minute's open and last minute's open\n",
        "Df['OO'] = Df['Open']-Df['Open'].shift(1)\n",
        "\n",
        "# Create columns 'OC' with the difference between the current minute's open and last minute's close\n",
        "Df['OC'] = Df['Open']-Df['Prev_Close']"
      ],
      "execution_count": null,
      "outputs": []
    },
    {
      "cell_type": "markdown",
      "metadata": {
        "id": "U4L7x5zJ79GB"
      },
      "source": [
        "## Calculate returns\n",
        "Next, calculate the returns for every data point. We also save returns of past n minutes in n columns named as return1, return2 and so on. This will help the algorithm to understand the trend of the returns in the last n periods.  "
      ]
    },
    {
      "cell_type": "code",
      "metadata": {
        "id": "XjqJz54A79GB"
      },
      "source": [
        "# Create a column 'Ret' with the calculation of returns\n",
        "Df['Ret'] = (Df['Open'].shift(-1)-Df['Open'])/Df['Open']\n",
        "\n",
        "# Create n columns and assign\n",
        "for i in range(1, n):\n",
        "    Df['return%i' % i] = Df['Ret'].shift(i)"
      ],
      "execution_count": null,
      "outputs": []
    },
    {
      "cell_type": "markdown",
      "metadata": {
        "id": "JRVIh6hv79GC"
      },
      "source": [
        "### Trim the data\n",
        "\n",
        "You need to keep the values of indicator `Corr` between -1 and 1, as the correlation coefficient is always between these values. This is done by changing all values less than -1 to -1, and all values greater than 1 to 1.\n",
        "\n",
        "This doesn't affect our calculations negatively because the extreme values are realised due to NaN values in the data, which need to be handled before training the algorithm. Then we drop all NaNs from the entire dataframe."
      ]
    },
    {
      "cell_type": "code",
      "metadata": {
        "id": "6Clswppc79GC"
      },
      "source": [
        "# Change the value of 'Corr' to -1 if it is less than -1\n",
        "Df.loc[Df['Corr'] < -1, 'Corr'] = -1\n",
        "\n",
        "# Change the value of 'Corr' to 1 if it is greater than 1\n",
        "Df.loc[Df['Corr'] > 1, 'Corr'] = 1\n",
        "\n",
        "# Drop the NaN values\n",
        "Df = Df.dropna()"
      ],
      "execution_count": null,
      "outputs": []
    },
    {
      "cell_type": "markdown",
      "metadata": {
        "id": "bDzXzX4-79GC"
      },
      "source": [
        "## Train and test data\n",
        "\n",
        "We will be using 80% of the data to train and the rest 20% to test. You will create a split parameter that will divide the dataframe in an 80-20 ratio.\n",
        "\n",
        "This can be changed as per your choice, but it is advisable to give at least 70% data as train data for good results. "
      ]
    },
    {
      "cell_type": "code",
      "metadata": {
        "colab": {
          "base_uri": "https://localhost:8080/"
        },
        "id": "UMGw55L879GC",
        "outputId": "9faf0798-1ac7-4d34-bf5c-03ac3fa5f4e0"
      },
      "source": [
        "# Create a variable split that stores 80% of the length of the dataframe\n",
        "t = 0.8\n",
        "split = int(t*len(Df))\n",
        "split"
      ],
      "execution_count": null,
      "outputs": [
        {
          "output_type": "execute_result",
          "data": {
            "text/plain": [
              "1310"
            ]
          },
          "metadata": {
            "tags": []
          },
          "execution_count": 46
        }
      ]
    },
    {
      "cell_type": "markdown",
      "metadata": {
        "id": "TBFGK1hL79GD"
      },
      "source": [
        "## Create output signals\n",
        "\n",
        "Next, assign signal values corresponding to returns that were calculated earlier. To do this, you will split the data into three equal parts.\n",
        "\n",
        "1. Highest returns’ quantile is assigned `Signal` 1 or Buy.\n",
        "2. Middle quantile is assigned `Signal` 0 or do nothing.\n",
        "3. Lowest quantile is assigned `Signal` -1 or Sell. "
      ]
    },
    {
      "cell_type": "code",
      "metadata": {
        "id": "96VJn8O_79GD"
      },
      "source": [
        "# Create a column by name, 'Signal' and initialize with 0\n",
        "Df['Signal'] = 0\n",
        "\n",
        "# Assign a value of 1 to 'Signal' column for the quantile with the highest returns\n",
        "Df.loc[Df['Ret'] > Df['Ret'][:split].quantile(q=0.66), 'Signal'] = 1\n",
        "\n",
        "# Assign a value of -1 to 'Signal' column for the quantile with the lowest returns\n",
        "Df.loc[Df['Ret'] < Df['Ret'][:split].quantile(q=0.34), 'Signal'] = -1"
      ],
      "execution_count": null,
      "outputs": []
    },
    {
      "cell_type": "markdown",
      "metadata": {
        "id": "CSglcgl979GE"
      },
      "source": [
        "One last step and then we will be ready with our data!  \n",
        "\n",
        "### Creating the features and values\n",
        "\n",
        "Drop the columns `Close`, `Signal`, `Time`, `High`, `Low`, `Volume`, and `Ret` since the algorithm will not be trained on these features. Next, we assign `Signal` to `y` which is the output variable that you will predict using test data.   "
      ]
    },
    {
      "cell_type": "code",
      "metadata": {
        "id": "Bryxlvcl79GE"
      },
      "source": [
        "# Use drop method to drop the columns\n",
        "X = Df.drop(['Close', 'Signal', 'High',\n",
        "             'Low', 'Volume', 'Ret'], axis=1)\n",
        "\n",
        "# Create a variable which contains all the 'Signal' values\n",
        "y = Df['Signal']"
      ],
      "execution_count": null,
      "outputs": []
    },
    {
      "cell_type": "markdown",
      "metadata": {
        "id": "k66bYtNk79GE"
      },
      "source": [
        "## Find the best parameters\n",
        "\n",
        "### Pipeline and functions\n",
        "\n",
        "As the first step to finding the best hyperparameters among C, Gamma and Kernel, you will first create a pipeline of functions required to run in a specific order on the training data. \n",
        "\n",
        "The `steps` contains references to functions applied to the data when called through a pipeline function. In this case, you will scale the data first and then fit it to the SVC function. This is done to avoid the effect of the individual weights of the features."
      ]
    },
    {
      "cell_type": "code",
      "metadata": {
        "id": "-33ewrpH79GE"
      },
      "source": [
        "# Create the 'steps' variable with the pipeline functions\n",
        "steps = [('scaler', StandardScaler()), ('svc', SVC())]\n",
        "\n",
        "# Pass the 'steps' to the Pipeline function\n",
        "pipeline = Pipeline(steps)"
      ],
      "execution_count": null,
      "outputs": []
    },
    {
      "cell_type": "markdown",
      "metadata": {
        "id": "EB1XpR3Y79GF"
      },
      "source": [
        "### Hyperparameters\n",
        "\n",
        "The hyperparameters are iterated over to arrive at the best possible combination for the given training data. These test values can be changed as per your choice. Here, you will choose 4 test values for `c` and 3 test values for `g`.  "
      ]
    },
    {
      "cell_type": "code",
      "metadata": {
        "id": "2NgIP04l79GF"
      },
      "source": [
        "# Test variables for 'c' and 'g'\n",
        "c = [10, 100, 1000, 10000]\n",
        "g = [1e-2, 1e-1, 1e0]"
      ],
      "execution_count": null,
      "outputs": []
    },
    {
      "cell_type": "markdown",
      "metadata": {
        "id": "hE_AMxbf79GF"
      },
      "source": [
        "The `rbf` is used as a singular entry in the kernel parameters. But you can go ahead and try other kernel functions, such as linear, poly and sigmoid.\n",
        "\n",
        "<b>Do remember:</b> A higher number of parameters would result in a greater time for the code to run. "
      ]
    },
    {
      "cell_type": "code",
      "metadata": {
        "id": "z_u71vKt79GF"
      },
      "source": [
        "# Intialise the parameters\n",
        "parameters = {'svc__C': c,\n",
        "              'svc__gamma': g,\n",
        "              'svc__kernel': ['rbf']\n",
        "              }"
      ],
      "execution_count": null,
      "outputs": []
    },
    {
      "cell_type": "markdown",
      "metadata": {
        "id": "Yu2xnF1u79GG"
      },
      "source": [
        "Next, you need to create a `RandomizedSearchCV` function with a `TimeSeriesSplit` object with a `n_split` value of `2`. This value can be anything more than or equal to 2. The `TimeSeriesSplit` is used to sequentially split a time series. Then `RandomizedSearchCV` arrives at the scores of different random combinations of the hyperparameters.\n",
        "\n",
        "These scores would be used to find the best parameters and create a newly optimized support vector classifier. Alternatively, you can use a GridSearch here. "
      ]
    },
    {
      "cell_type": "code",
      "metadata": {
        "id": "5CFHF1fG79GG"
      },
      "source": [
        "# Call the RandomizedSearchCV function and pass the parameters\n",
        "rcv = RandomizedSearchCV(pipeline, parameters, cv=TimeSeriesSplit(n_splits=2))"
      ],
      "execution_count": null,
      "outputs": []
    },
    {
      "cell_type": "markdown",
      "metadata": {
        "id": "FO3xUTUt79GG"
      },
      "source": [
        "### Training on and fetching the best parameters\n",
        "             \n",
        "Next, you need to fit the train data to `rcv` created above to obtain the best hyperparameters. The best parameters can be obtained using the `best_params_` method."
      ]
    },
    {
      "cell_type": "code",
      "metadata": {
        "id": "Pt1JEUBq79GG"
      },
      "source": [
        "# Call the 'fit' method of rcv and pass the train data to it\n",
        "rcv.fit(X.iloc[:split], y.iloc[:split])\n",
        "\n",
        "# Call the 'best_params_' method to obtain the best parameters of C\n",
        "best_C = rcv.best_params_['svc__C']\n",
        "\n",
        "# Call the 'best_params_' method to obtain the best parameters of kernel\n",
        "best_kernel = rcv.best_params_['svc__kernel']\n",
        "\n",
        "# Call the 'best_params_' method to obtain the best parameters of gamma\n",
        "best_gamma = rcv.best_params_['svc__gamma']"
      ],
      "execution_count": null,
      "outputs": []
    },
    {
      "cell_type": "markdown",
      "metadata": {
        "id": "sWDKtKbc79GG"
      },
      "source": [
        "## Create the Support Vector Machine\n",
        "\n",
        "### Create the new SVC\n",
        "\n",
        "In this line of code, we instantiate a new support vector classifier function with the best hyperparameters."
      ]
    },
    {
      "cell_type": "code",
      "metadata": {
        "id": "7YCga37Q79GG"
      },
      "source": [
        "# Create a new SVC classifier\n",
        "cls = SVC(C=best_C, kernel=best_kernel, gamma=best_gamma)"
      ],
      "execution_count": null,
      "outputs": []
    },
    {
      "cell_type": "markdown",
      "metadata": {
        "id": "weEizr2u79GH"
      },
      "source": [
        "### Train the data\n",
        "\n",
        "As done previously, for finding the best hyperparameters, you will first scale the data before you fit it to the classifier to train on. To do this, you need to instantiate the `StandardScaler` function."
      ]
    },
    {
      "cell_type": "code",
      "metadata": {
        "id": "5-Mturm979GH"
      },
      "source": [
        "# Instantiate the StandardScaler\n",
        "ss1 = StandardScaler()"
      ],
      "execution_count": null,
      "outputs": []
    },
    {
      "cell_type": "markdown",
      "metadata": {
        "id": "qgyUWjLj79GH"
      },
      "source": [
        "You will use the scaled training data to train the classifier algorithm."
      ]
    },
    {
      "cell_type": "code",
      "metadata": {
        "scrolled": true,
        "colab": {
          "base_uri": "https://localhost:8080/"
        },
        "id": "447MvOzK79GH",
        "outputId": "44043c58-1b94-4fb7-e1b7-be28aff74775"
      },
      "source": [
        "# Pass the scaled train data to the SVC classifier\n",
        "cls.fit(ss1.fit_transform(X.iloc[:split]), y.iloc[:split])"
      ],
      "execution_count": null,
      "outputs": [
        {
          "output_type": "execute_result",
          "data": {
            "text/plain": [
              "SVC(C=100, break_ties=False, cache_size=200, class_weight=None, coef0=0.0,\n",
              "    decision_function_shape='ovr', degree=3, gamma=0.01, kernel='rbf',\n",
              "    max_iter=-1, probability=False, random_state=None, shrinking=True,\n",
              "    tol=0.001, verbose=False)"
            ]
          },
          "metadata": {
            "tags": []
          },
          "execution_count": 56
        }
      ]
    },
    {
      "cell_type": "markdown",
      "metadata": {
        "id": "KpEkXidb79GH"
      },
      "source": [
        "Congratulations, your prediction model is ready!"
      ]
    },
    {
      "cell_type": "markdown",
      "metadata": {
        "id": "wflRSVs279GI"
      },
      "source": [
        "## Predict the signals\n",
        "\n",
        "Now, you can use the test data to make predictions and save the output in a list called `y_predict`. This list will have the predicted values of signals for the test data.  "
      ]
    },
    {
      "cell_type": "code",
      "metadata": {
        "id": "uqEz0Gx379GI"
      },
      "source": [
        "# Pass the test data to the predict function and store the values into 'y_predict'\n",
        "y_predict = cls.predict(ss1.transform(X.iloc[split:]))\n",
        "\n",
        "# Initiate a column by name, 'Pred_Signal' and assign 0 to it\n",
        "Df['Pred_Signal'] = 0"
      ],
      "execution_count": null,
      "outputs": []
    },
    {
      "cell_type": "markdown",
      "metadata": {
        "id": "yyXTOT_M79GI"
      },
      "source": [
        "### Save the predictions\n",
        "\n",
        "1. To save predicted y values of test data, we can assign `y_predict` to `Pred_Signal` using the split.\n",
        "2. To save predicted y values for train data, we make predictions for train data and save it similarly."
      ]
    },
    {
      "cell_type": "code",
      "metadata": {
        "id": "EVFmzmpG79GI"
      },
      "source": [
        "# Save the predicted values for the train data\n",
        "Df.iloc[:split, Df.columns.get_loc('Pred_Signal')] = pd.Series(\n",
        "    cls.predict(ss1.transform(X.iloc[:split])).tolist())\n",
        "\n",
        "# Save the predicted values for the test data\n",
        "Df.iloc[split:, Df.columns.get_loc('Pred_Signal')] = y_predict"
      ],
      "execution_count": null,
      "outputs": []
    },
    {
      "cell_type": "markdown",
      "metadata": {
        "id": "ue5A1YNe79GI"
      },
      "source": [
        "Since the algorithm was trained on the train data, its accuracy is expected to be better on this train data than the test data. You can print these two separately to check the accuracies. (TRY ON YOUR OWN!)"
      ]
    },
    {
      "cell_type": "markdown",
      "metadata": {
        "id": "lWogOElG79GI"
      },
      "source": [
        "## Use the model for trading strategy \n",
        "\n",
        "### Trading strategy \n",
        "        \n",
        "Our trading strategy is to buy/sell/do nothing at that period for which the algorithm generates the signal. The strategy assumes that you always get a fill at the open prices. "
      ]
    },
    {
      "cell_type": "code",
      "metadata": {
        "id": "Wxmbp_U679GJ"
      },
      "source": [
        "# Calculate strategy returns and store them in 'Ret1' column\n",
        "Df['Ret1'] = Df['Ret']*Df['Pred_Signal']"
      ],
      "execution_count": null,
      "outputs": []
    },
    {
      "cell_type": "markdown",
      "metadata": {
        "id": "tQDuu37g79GJ"
      },
      "source": [
        "## Analyse the performance\n",
        "\n",
        "Please note that here you are using only the test data to compare the performance of the strategy. You can pass the entire 'Ret1' column and check the performance on both the test and train data if you wish to.\n",
        "\n",
        "The confusion matrix is a table layout that allows visualisation of the performance of a supervised learning algorithm. Each row of the matrix represents the instances in a predicted class, while each column represents the instances in an actual class (or vice versa). The name stems from the fact that it makes it easy to see if the system is confusing two classes (i.e. commonly mislabeling one as another). [Additional Reading on Confusion Matrix](https://en.wikipedia.org/wiki/Confusion_matrix)"
      ]
    },
    {
      "cell_type": "code",
      "metadata": {
        "colab": {
          "base_uri": "https://localhost:8080/"
        },
        "id": "waxQ8kLO79GJ",
        "outputId": "3d8e1149-40aa-4685-f28e-96f45600c435"
      },
      "source": [
        "# Calculate the confusion matrix\n",
        "cm = confusion_matrix(y[split:], y_predict)\n",
        "cm"
      ],
      "execution_count": null,
      "outputs": [
        {
          "output_type": "execute_result",
          "data": {
            "text/plain": [
              "array([[ 33,   9,  78],\n",
              "       [ 10,   9,  48],\n",
              "       [ 19,  17, 105]])"
            ]
          },
          "metadata": {
            "tags": []
          },
          "execution_count": 60
        }
      ]
    },
    {
      "cell_type": "code",
      "metadata": {
        "colab": {
          "base_uri": "https://localhost:8080/",
          "height": 287
        },
        "id": "rnJ-ZkP879GJ",
        "outputId": "29fdbe1d-b063-42c7-f3a1-2d47ebcaa470"
      },
      "source": [
        "# Set the font sizes\n",
        "plt.title('Confusion Matrix', fontsize=16)\n",
        "plt.xlabel('Predicted labels', fontsize=14)\n",
        "plt.ylabel('True labels', fontsize=14)\n",
        "plt.xticks(fontsize=14)\n",
        "plt.yticks(fontsize=14)\n",
        "plt.rcParams.update({'font.size': 14})\n",
        "\n",
        "# Plot the confusion matrix\n",
        "ax = plt.subplot()\n",
        "sns.heatmap(cm, annot=True, ax=ax)\n",
        "\n",
        "# Set the axis labels\n",
        "ax.xaxis.set_ticklabels(['-1', '0', '1'])\n",
        "ax.yaxis.set_ticklabels(['-1', '0', '1'])\n",
        "plt.show()"
      ],
      "execution_count": null,
      "outputs": [
        {
          "output_type": "display_data",
          "data": {
            "image/png": "[encoded data removed]",
            "text/plain": [
              "<Figure size 432x288 with 2 Axes>"
            ]
          },
          "metadata": {
            "tags": [],
            "needs_background": "light"
          }
        }
      ]
    },
    {
      "cell_type": "markdown",
      "metadata": {
        "id": "KovrnhQp79GK"
      },
      "source": [
        "From the confusion matrix, we can see how the model correctly predicted:\n",
        "* 22/38 instances of class -1\n",
        "* 22/66 instances of class 0\n",
        "* 17/42 instances of class 1."
      ]
    },
    {
      "cell_type": "markdown",
      "metadata": {
        "id": "Q7Px0-2a79GK"
      },
      "source": [
        "## Classification Report\n",
        "The classification report computes `precision`, `recall`, `F-measure` and `support` for each class.\n",
        "\n",
        "The `precision` is the ratio `tp / (tp + fp)` where `tp` is the number of true positives and `fp` the number of false positives. The precision is intuitively the ability of the classifier not to label as positive a sample that is negative.\n",
        "\n",
        "The `recall` is the ratio `tp / (tp + fn)` where `tp` is the number of true positives and `fn` the number of false negatives. The recall is intuitively the ability of the classifier to find all the positive samples.\n",
        "\n",
        "The `F-beta score` can be interpreted as a weighted harmonic mean of the `precision` and `recall`, where an F-beta score reaches its best value at 1 and the worst score at 0.\n",
        "\n",
        "The `support` is the number of occurrences of each class in the true prediction.\n",
        "\n",
        "Reference: [Classification report](https://towardsdatascience.com/accuracy-precision-recall-or-f1-331fb37c5cb9)"
      ]
    },
    {
      "cell_type": "code",
      "metadata": {
        "colab": {
          "base_uri": "https://localhost:8080/"
        },
        "id": "HJEFCtio79GK",
        "outputId": "fdb7258e-ad71-485e-ed48-640bd1cf062b"
      },
      "source": [
        "# Calculate the classification report\n",
        "cr = classification_report(y[split:], y_predict)\n",
        "print(cr)"
      ],
      "execution_count": null,
      "outputs": [
        {
          "output_type": "stream",
          "text": [
            "              precision    recall  f1-score   support\n",
            "\n",
            "          -1       0.53      0.28      0.36       120\n",
            "           0       0.26      0.13      0.18        67\n",
            "           1       0.45      0.74      0.56       141\n",
            "\n",
            "    accuracy                           0.45       328\n",
            "   macro avg       0.41      0.38      0.37       328\n",
            "weighted avg       0.44      0.45      0.41       328\n",
            "\n"
          ],
          "name": "stdout"
        }
      ]
    },
    {
      "cell_type": "code",
      "metadata": {
        "colab": {
          "base_uri": "https://localhost:8080/",
          "height": 514
        },
        "id": "afmdV8cD79GK",
        "outputId": "41cf7b18-5304-4033-f727-35dc6a0d0534"
      },
      "source": [
        "\"\"\"\n",
        "The drawdown metrics and plotting is performed here\n",
        "\"\"\"\n",
        "# Calculate the cumulative returns\n",
        "cum_rets = (Df['Ret1'][split:]+1).cumprod()\n",
        "\n",
        "# Calculate the running maximum\n",
        "running_max = np.maximum.accumulate(cum_rets.dropna())\n",
        "\n",
        "# Ensure the value never drops below 1\n",
        "running_max[running_max < 1] = 1\n",
        "\n",
        "# Calculate the percentage drawdown\n",
        "drawdown = (cum_rets)/running_max - 1\n",
        "drawdown.index = cum_rets.index\n",
        "\n",
        "# Calculate the maximum drawdown\n",
        "max_dd = drawdown.min()*100\n",
        "\n",
        "# Plot the drawdown\n",
        "fig, ax = plt.subplots(figsize=(10, 7))\n",
        "ax.plot(drawdown, color='r')\n",
        "ax.fill_between(drawdown.index, drawdown.values, color='red')\n",
        "\n",
        "# Set the font sizes\n",
        "_ = plt.xticks(rotation=45)\n",
        "plt.title('Drawdown for the predicted returns', fontsize=14)\n",
        "plt.xlabel('Time', fontsize=12)\n",
        "plt.ylabel('Drawdown', fontsize=12)\n",
        "plt.xticks(fontsize=12)\n",
        "plt.yticks(fontsize=12)\n",
        "ax.legend(labels=[\"Drawdown\"], prop={'size': 10}, loc=\"lower right\")\n",
        "\n",
        "# Display the plot\n",
        "plt.show()\n",
        "print(\"The maximum drawdown is %.2f\" % max_dd+\"%\")"
      ],
      "execution_count": null,
      "outputs": [
        {
          "output_type": "display_data",
          "data": {
            "image/png": "[encoded data removed]",
            "text/plain": [
              "<Figure size 720x504 with 1 Axes>"
            ]
          },
          "metadata": {
            "tags": [],
            "needs_background": "light"
          }
        },
        {
          "output_type": "stream",
          "text": [
            "The maximum drawdown is -18.42%\n"
          ],
          "name": "stdout"
        }
      ]
    },
    {
      "cell_type": "code",
      "metadata": {
        "colab": {
          "base_uri": "https://localhost:8080/"
        },
        "id": "p67abp4a79GL",
        "outputId": "a3c4a222-7016-4b2c-b886-c6bb90a1b3b8"
      },
      "source": [
        "# Calculate the annualised Sharpe ratio\n",
        "sharpe = np.sqrt(252) * \\\n",
        "    Df['Ret1'][split:].mean() / Df['Ret1'][split:].std()\n",
        "\n",
        "print(\"The annualised Sharpe ratio is %.2f\" % sharpe)"
      ],
      "execution_count": null,
      "outputs": [
        {
          "output_type": "stream",
          "text": [
            "The annualised Sharpe ratio is 2.69\n"
          ],
          "name": "stdout"
        }
      ]
    },
    {
      "cell_type": "markdown",
      "metadata": {
        "id": "MfcDR96l79GL"
      },
      "source": [
        "## Plot the results\n",
        "\n",
        "Now you can plot the results to visualise the performance."
      ]
    },
    {
      "cell_type": "code",
      "metadata": {
        "scrolled": false,
        "colab": {
          "base_uri": "https://localhost:8080/",
          "height": 514
        },
        "id": "1RX6KY_j79GL",
        "outputId": "8383bd57-ad3a-481e-f87e-c21241b4e06f"
      },
      "source": [
        "# Plotting the returns\n",
        "fig, ax = plt.subplots(figsize=(10, 7))\n",
        "ax.plot((Df['Ret'][split:]+1).cumprod())\n",
        "ax.plot((Df['Ret1'][split:]+1).cumprod())\n",
        "_ = plt.xticks(rotation=45)\n",
        "\n",
        "# Setting the labels and font sizes\n",
        "plt.title('Strategy Returns vs Market Returns', fontsize=14)\n",
        "plt.xlabel('Time', fontsize=12)\n",
        "plt.ylabel('Cumulative Returns', fontsize=12)\n",
        "plt.xticks(fontsize=12)\n",
        "plt.yticks(fontsize=12)\n",
        "ax.legend(labels=[\"Market Returns\", \"Strategy Returns\"],\n",
        "          prop={'size': 10}, loc=\"upper left\")\n",
        "plt.show()\n",
        "\n",
        "\n",
        "return_strategy = ((Df['Ret1'][split:]+1).cumprod().tail(1)[0]-1)*100\n",
        "print(\"The strategy return is %.2f\" % return_strategy + \"%\")"
      ],
      "execution_count": null,
      "outputs": [
        {
          "output_type": "display_data",
          "data": {
            "image/png": "[encoded data removed]",
            "text/plain": [
              "<Figure size 720x504 with 1 Axes>"
            ]
          },
          "metadata": {
            "tags": [],
            "needs_background": "light"
          }
        },
        {
          "output_type": "stream",
          "text": [
            "The strategy return is 415.54%\n"
          ],
          "name": "stdout"
        }
      ]
    },
    {
      "cell_type": "markdown",
      "metadata": {
        "id": "9qxjuIt_79GM"
      },
      "source": [
        "## Now, it's your turn! \n",
        "\n",
        "### Tweak the code\n",
        " \n",
        "You can tweak the code in the following ways:\n",
        "1. Use different data sets: backtest and try out the model on different data sets!\n",
        "2. Features: create your own features using different indicators that could improve the prediction accuracy\n",
        "3. Try different CV splits\n",
        "4. Try Grid Search for best hyperparameters selection. Try different kernels and check for results \n",
        "5. Change the trading strategy as you wish! <br><br>"
      ]
    }
  ]
}